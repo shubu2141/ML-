{
 "cells": [
  {
   "cell_type": "code",
   "execution_count": 1,
   "id": "d6a9029e",
   "metadata": {},
   "outputs": [],
   "source": [
    "import pandas as pd\n",
    "import numpy as np\n",
    "import matplotlib.pyplot as plt"
   ]
  },
  {
   "cell_type": "code",
   "execution_count": 2,
   "id": "09a993b0",
   "metadata": {},
   "outputs": [
    {
     "name": "stdout",
     "output_type": "stream",
     "text": [
      "    Age  Insured\n",
      "0    18        0\n",
      "1    20        0\n",
      "2    22        0\n",
      "3    24        0\n",
      "4    26        0\n",
      "5    28        0\n",
      "6    30        0\n",
      "7    32        0\n",
      "8    34        0\n",
      "9    36        0\n",
      "10   38        0\n",
      "11   42        1\n",
      "12   44        1\n",
      "13   46        1\n",
      "14   48        1\n",
      "15   50        1\n",
      "16   52        1\n",
      "17   54        1\n",
      "18   56        1\n",
      "19   58        1\n",
      "20   60        1\n",
      "21   62        1\n"
     ]
    }
   ],
   "source": [
    "df=pd.read_csv('logistic.csv')\n",
    "print(df)"
   ]
  },
  {
   "cell_type": "code",
   "execution_count": 3,
   "id": "8e913daa",
   "metadata": {},
   "outputs": [
    {
     "name": "stdout",
     "output_type": "stream",
     "text": [
      "[0 0 0 0 0 0 0 0 0 0 0 1 1 1 1 1 1 1 1 1 1 1]\n"
     ]
    }
   ],
   "source": [
    "x=df.iloc[:,0:1].values\n",
    "y=df.iloc[:,-1].values\n",
    "print(y)"
   ]
  },
  {
   "cell_type": "code",
   "execution_count": 4,
   "id": "46cc229a",
   "metadata": {},
   "outputs": [
    {
     "data": {
      "image/png": "[encoded data removed]",
      "text/plain": [
       "<Figure size 432x288 with 1 Axes>"
      ]
     },
     "metadata": {
      "needs_background": "light"
     },
     "output_type": "display_data"
    }
   ],
   "source": [
    "plt.title(\"Insurance data\")\n",
    "plt.xlabel(\"Age\")\n",
    "plt.ylabel(\"Insured or not\")\n",
    "plt.scatter(x,y)\n",
    "plt.show()"
   ]
  },
  {
   "cell_type": "code",
   "execution_count": 5,
   "id": "5edfa261",
   "metadata": {},
   "outputs": [],
   "source": [
    "n=len(y)"
   ]
  },
  {
   "cell_type": "code",
   "execution_count": 6,
   "id": "fe8b9d25",
   "metadata": {},
   "outputs": [
    {
     "name": "stdout",
     "output_type": "stream",
     "text": [
      "2.282608695652174\n"
     ]
    }
   ],
   "source": [
    "m_x=np.mean(x)\n",
    "m_y=np.mean(y)\n",
    "SS_xy=np.sum(x*y)-n*m_x*m_y\n",
    "SS_xx=np.sum(x*x)-n*m_x*m_x\n",
    "m=SS_xy/SS_xx\n",
    "print(m)"
   ]
  },
  {
   "cell_type": "code",
   "execution_count": 7,
   "id": "0e71ee7b",
   "metadata": {},
   "outputs": [
    {
     "name": "stdout",
     "output_type": "stream",
     "text": [
      "-90.80434782608695\n"
     ]
    }
   ],
   "source": [
    "c = m_y-m*m_x\n",
    "print(c)"
   ]
  },
  {
   "cell_type": "code",
   "execution_count": 8,
   "id": "5a9fbb34",
   "metadata": {},
   "outputs": [
    {
     "name": "stdout",
     "output_type": "stream",
     "text": [
      "[[-49.7173913 ]\n",
      " [-45.15217391]\n",
      " [-40.58695652]\n",
      " [-36.02173913]\n",
      " [-31.45652174]\n",
      " [-26.89130435]\n",
      " [-22.32608696]\n",
      " [-17.76086957]\n",
      " [-13.19565217]\n",
      " [ -8.63043478]\n",
      " [ -4.06521739]\n",
      " [  5.06521739]\n",
      " [  9.63043478]\n",
      " [ 14.19565217]\n",
      " [ 18.76086957]\n",
      " [ 23.32608696]\n",
      " [ 27.89130435]\n",
      " [ 32.45652174]\n",
      " [ 37.02173913]\n",
      " [ 41.58695652]\n",
      " [ 46.15217391]\n",
      " [ 50.7173913 ]]\n"
     ]
    },
    {
     "data": {
      "image/png": "[encoded data removed]",
      "text/plain": [
       "<Figure size 432x288 with 1 Axes>"
      ]
     },
     "metadata": {
      "needs_background": "light"
     },
     "output_type": "display_data"
    }
   ],
   "source": [
    "y_predicted = m*x+c\n",
    "print(y_predicted)\n",
    "plt.title(\"Insurance data\")\n",
    "plt.xlabel(\"age\")\n",
    "plt.ylabel(\"Insured or not\")\n",
    "plt.scatter(x,y)\n",
    "plt.plot(x,y_predicted,color='r')\n",
    "plt.show()"
   ]
  },
  {
   "cell_type": "code",
   "execution_count": 9,
   "id": "af801c13",
   "metadata": {},
   "outputs": [
    {
     "data": {
      "image/png": "[encoded data removed]",
      "text/plain": [
       "<Figure size 432x288 with 1 Axes>"
      ]
     },
     "metadata": {
      "needs_background": "light"
     },
     "output_type": "display_data"
    }
   ],
   "source": [
    "import math\n",
    "def get_sigmoid(x):\n",
    "    return 1/(1+np.power(math.e,-x))\n",
    "plt.title(\"Insurance data\")\n",
    "plt.xlabel(\"age\")\n",
    "plt.ylabel(\"Insured or not\")\n",
    "plt.scatter(x,y,color='b',s=100)\n",
    "plt.plot(x,get_sigmoid(y_predicted),'ro-')\n",
    "plt.show()\n"
   ]
  },
  {
   "cell_type": "code",
   "execution_count": null,
   "id": "d9b4761c",
   "metadata": {},
   "outputs": [],
   "source": []
  }
 ],
 "metadata": {
  "kernelspec": {
   "display_name": "Python 3 (ipykernel)",
   "language": "python",
   "name": "python3"
  },
  "language_info": {
   "codemirror_mode": {
    "name": "ipython",
    "version": 3
   },
   "file_extension": ".py",
   "mimetype": "text/x-python",
   "name": "python",
   "nbconvert_exporter": "python",
   "pygments_lexer": "ipython3",
   "version": "3.9.12"
  }
 },
 "nbformat": 4,
 "nbformat_minor": 5
}

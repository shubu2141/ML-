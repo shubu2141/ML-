{
 "cells": [
  {
   "cell_type": "code",
   "execution_count": 2,
   "id": "9d03a6fa",
   "metadata": {},
   "outputs": [
    {
     "name": "stdout",
     "output_type": "stream",
     "text": [
      "\n",
      "Instances are:\n",
      " [[1 'sunny' 'warm' 'normal' 'strong' 'warm' 'same']\n",
      " [2 'sunny' 'warm' 'high' 'strong' 'warm' 'same']\n",
      " [3 'rainy' 'cold' 'high' 'strong' 'warm' 'change']\n",
      " [4 'sunny' 'warm' 'high' 'strong' 'cool' 'change']]\n",
      "\n",
      "Target values are:  ['yes' 'yes' 'no' 'yes']\n"
     ]
    }
   ],
   "source": [
    "import numpy as np\n",
    "import pandas as pd\n",
    "data = pd.read_csv('candidatedataset.csv')\n",
    "concepts = np.array(data.iloc[:,0:-1])\n",
    "print(\"\\nInstances are:\\n\",concepts)\n",
    "target = np.array(data.iloc[:,-1])\n",
    "print(\"\\nTarget values are: \",target)"
   ]
  },
  {
   "cell_type": "code",
   "execution_count": 3,
   "id": "92c89d99",
   "metadata": {},
   "outputs": [
    {
     "name": "stdout",
     "output_type": "stream",
     "text": [
      "\n",
      "Initialization of specific_h and general_h\n",
      "\n",
      "Specific Boundary: [1 'sunny' 'warm' 'normal' 'strong' 'warm' 'same']\n",
      "\n",
      "Generic Boundary:  [['?', '?', '?', '?', '?', '?', '?'], ['?', '?', '?', '?', '?', '?', '?'], ['?', '?', '?', '?', '?', '?', '?'], ['?', '?', '?', '?', '?', '?', '?'], ['?', '?', '?', '?', '?', '?', '?'], ['?', '?', '?', '?', '?', '?', '?'], ['?', '?', '?', '?', '?', '?', '?']]\n",
      "\n",
      "Instance 1 is  [1 'sunny' 'warm' 'normal' 'strong' 'warm' 'same']\n",
      "\n",
      "Instance 2 is  [2 'sunny' 'warm' 'high' 'strong' 'warm' 'same']\n",
      "\n",
      "Instance 3 is  [3 'rainy' 'cold' 'high' 'strong' 'warm' 'change']\n",
      "\n",
      "Instance 4 is  [4 'sunny' 'warm' 'high' 'strong' 'cool' 'change']\n",
      "Instance is positive \n",
      "specific Boundary after  4 Instance is  ['?' 'sunny' 'warm' '?' 'strong' '?' '?']\n",
      "Generic Boundary after  4 Instance is  [['?', '?', '?', '?', '?', '?', '?'], ['?', 'sunny', '?', '?', '?', '?', '?'], ['?', '?', 'warm', '?', '?', '?', '?'], ['?', '?', '?', '?', '?', '?', '?'], ['?', '?', '?', '?', 'strong', '?', '?'], ['?', '?', '?', '?', '?', '?', '?'], ['?', '?', '?', '?', '?', '?', '?']]\n",
      "\n",
      "\n"
     ]
    }
   ],
   "source": [
    "def learn(concepts,target):\n",
    "    specific_h = concepts[0].copy()\n",
    "    print(\"\\nInitialization of specific_h and general_h\")\n",
    "    print(\"\\nSpecific Boundary:\",specific_h)\n",
    "    general_h = [[\"?\" for i in range(len(specific_h))]for i in range(len(specific_h))]\n",
    "    print(\"\\nGeneric Boundary: \",general_h)\n",
    "    for i, h in enumerate(concepts):\n",
    "        print(\"\\nInstance\", i+1 , \"is \",h)\n",
    "    if target[i] == \"yes\":\n",
    "            print(\"Instance is positive \")\n",
    "            for x in range(len(specific_h)):\n",
    "                if h[x]!= specific_h[x]:\n",
    "                    specific_h[x] = '?'\n",
    "                    general_h[x][x] = '?'\n",
    "                if target[i] == \"no\":\n",
    "                 print(\"Instance is negative \")\n",
    "            for x in range(len(specific_h)):\n",
    "                if[x]!= specific_h[x]:\n",
    "                    general_h[x][x] = specific_h[x]\n",
    "                else:\n",
    "                    general_h[x][x] = '?'\n",
    "            print(\"specific Boundary after \", i+1, \"Instance is \",specific_h)\n",
    "            print(\"Generic Boundary after \", i+1, \"Instance is \",general_h)\n",
    "            print(\"\\n\")\n",
    "    indices = [i for i, val in enumerate(general_h)if val == ['?', '?', '?', '?', '?', '?']]\n",
    "    for i in indices:\n",
    "        general_h.remove(['?', '?', '?', '?', '?', '?'])\n",
    "    return specific_h, general_h\n",
    "s_final, g_final = learn(concepts, target)"
   ]
  },
  {
   "cell_type": "code",
   "execution_count": 4,
   "id": "ef5dbd09",
   "metadata": {},
   "outputs": [
    {
     "name": "stdout",
     "output_type": "stream",
     "text": [
      "Final Specific_h: \n",
      "['?' 'sunny' 'warm' '?' 'strong' '?' '?']\n",
      "Final General_h: \n",
      "['?' 'sunny' 'warm' '?' 'strong' '?' '?']\n"
     ]
    }
   ],
   "source": [
    "print(\"Final Specific_h: \", s_final, sep=\"\\n\")\n",
    "print(\"Final General_h: \", s_final, sep=\"\\n\")     "
   ]
  },
  {
   "cell_type": "code",
   "execution_count": null,
   "id": "b298747e",
   "metadata": {},
   "outputs": [],
   "source": []
  }
 ],
 "metadata": {
  "kernelspec": {
   "display_name": "Python 3 (ipykernel)",
   "language": "python",
   "name": "python3"
  },
  "language_info": {
   "codemirror_mode": {
    "name": "ipython",
    "version": 3
   },
   "file_extension": ".py",
   "mimetype": "text/x-python",
   "name": "python",
   "nbconvert_exporter": "python",
   "pygments_lexer": "ipython3",
   "version": "3.9.12"
  }
 },
 "nbformat": 4,
 "nbformat_minor": 5
}

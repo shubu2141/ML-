{
 "cells": [
  {
   "cell_type": "code",
   "execution_count": 1,
   "id": "5adffb04",
   "metadata": {},
   "outputs": [],
   "source": [
    "import pandas as pd\n",
    "import matplotlib.pyplot as plt\n",
    "from sklearn.linear_model import LinearRegression"
   ]
  },
  {
   "cell_type": "code",
   "execution_count": 2,
   "id": "1199aa09",
   "metadata": {},
   "outputs": [],
   "source": [
    "def get_training_data(lineardataset):\n",
    "    dataframe = pd.read_csv('lineardataset.csv')\n",
    "    print(dataframe)\n",
    "    x_parameters = []\n",
    "    y_parameters = []\n",
    "    for single_square_feet,single_price in zip(dataframe['square_feet'],dataframe['price']):\n",
    "        x_parameters.append( [single_square_feet] )\n",
    "        y_parameters.append(single_price)\n",
    "        return x_parameters,y_parameters"
   ]
  },
  {
   "cell_type": "code",
   "execution_count": 3,
   "id": "f87ed7d4",
   "metadata": {},
   "outputs": [],
   "source": [
    "def linear_model_main(x_parameters,y_parameters, quest_value):\n",
    "    regr = LinearRegression()\n",
    "    regr.fit(x_parameters,y_parameters)\n",
    "    predicted_ans = regr.predict( [[quest_value]] )\n",
    "    print(\"Output from machine = \",predicted_ans)\n",
    "    print(\"After Training via sklearn:Model Parameters\")\n",
    "    print(\"m= \",regr.coef_)\n",
    "    print(\"c= \",regr.intercept_)\n",
    "    plt.scatter(x_parameters, y_parameters,color=\"m\", marker=\"o\")\n",
    "    all_predicted_y = regr.predict(x_parameters)\n",
    "    plt.scatter(x_parameters, all_predicted_y, color=\"b\", marker=\"o\")\n",
    "    plt.plot(x_parameters, all_predicted_y, color=\"g\")\n",
    "    plt.scatter(quest_value, predicted_ans, color=\"r\")\n",
    "    plt.show()"
   ]
  },
  {
   "cell_type": "code",
   "execution_count": 4,
   "id": "c90608fc",
   "metadata": {},
   "outputs": [],
   "source": [
    "def startAIAlgorithm():\n",
    "    x, y = get_training_data('lineardataset.csv')\n",
    "    print(\"Formatted Training Data:\")\n",
    "    print(\"x=\",x)\n",
    "    print(\"y=\",y)\n",
    "    question_value=700\n",
    "    print(\"question_value=\",question_value)\n",
    "    linear_model_main(x,y, question_value)"
   ]
  },
  {
   "cell_type": "code",
   "execution_count": 5,
   "id": "3bb44613",
   "metadata": {},
   "outputs": [
    {
     "name": "stdout",
     "output_type": "stream",
     "text": [
      "    square_feet  price\n",
      "0          1200   2000\n",
      "1           900   1999\n",
      "2           123    300\n",
      "3            90    100\n",
      "4            80     90\n",
      "5          1900   1999\n",
      "6          2123   3060\n",
      "7           390   1040\n",
      "8           840    940\n",
      "9          9500  13999\n",
      "10         1243    300\n",
      "11          904   1006\n",
      "12          805    236\n",
      "13         1900   1999\n",
      "14         2123   3060\n",
      "15          390   1040\n",
      "16          840    940\n",
      "17         9500  13999\n",
      "18            1      2\n",
      "Formatted Training Data:\n",
      "x= [[1200]]\n",
      "y= [2000]\n",
      "question_value= 700\n",
      "Output from machine =  [2000.]\n",
      "After Training via sklearn:Model Parameters\n",
      "m=  [0.]\n",
      "c=  2000.0\n"
     ]
    },
    {
     "data": {
      "image/png": "[encoded data removed]",
      "text/plain": [
       "<Figure size 432x288 with 1 Axes>"
      ]
     },
     "metadata": {
      "needs_background": "light"
     },
     "output_type": "display_data"
    }
   ],
   "source": [
    "if __name__ == \"__main__\":\n",
    "    startAIAlgorithm()"
   ]
  },
  {
   "cell_type": "code",
   "execution_count": null,
   "id": "89dc5d55",
   "metadata": {},
   "outputs": [],
   "source": []
  },
  {
   "cell_type": "code",
   "execution_count": null,
   "id": "70ad15bf",
   "metadata": {},
   "outputs": [],
   "source": []
  }
 ],
 "metadata": {
  "kernelspec": {
   "display_name": "Python 3 (ipykernel)",
   "language": "python",
   "name": "python3"
  },
  "language_info": {
   "codemirror_mode": {
    "name": "ipython",
    "version": 3
   },
   "file_extension": ".py",
   "mimetype": "text/x-python",
   "name": "python",
   "nbconvert_exporter": "python",
   "pygments_lexer": "ipython3",
   "version": "3.9.12"
  }
 },
 "nbformat": 4,
 "nbformat_minor": 5
}

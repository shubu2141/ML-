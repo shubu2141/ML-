{
 "cells": [
  {
   "cell_type": "code",
   "execution_count": 74,
   "metadata": {},
   "outputs": [
    {
     "ename": "IndentationError",
     "evalue": "unindent does not match any outer indentation level (<tokenize>, line 17)",
     "output_type": "error",
     "traceback": [
      "\u001b[1;36m  File \u001b[1;32m\"<tokenize>\"\u001b[1;36m, line \u001b[1;32m17\u001b[0m\n\u001b[1;33m    elif col !=h[j] and h[j]!='0':\u001b[0m\n\u001b[1;37m    ^\u001b[0m\n\u001b[1;31mIndentationError\u001b[0m\u001b[1;31m:\u001b[0m unindent does not match any outer indentation level\n"
     ]
    }
   ],
   "source": [
    "import csv\n",
    "with open(\"salgorithm.csv\",\"r\") as f:\n",
    "    reader=csv.reader(f)\n",
    "    data=list(reader)\n",
    "    print(data)\n",
    "    \n",
    "    attributes = [\"sky\",\"temperature\",\"humid\",\"wind\",\"water\",\"forecast\"]\n",
    "print(attributes)\n",
    "h=[\"0\",\"0\",\"0\",\"0\",\"0\",\"0\"]\n",
    "for row in data:\n",
    "    if row [-1] == \"yes\":\n",
    "        j=0\n",
    "        for col in row:\n",
    "             if col != \"yes\":\n",
    "                if col != h[j] and h[j] == \"0\":\n",
    "                    h[j]=col \n",
    "            elif col !=h[j] and h[j]!='0':\n",
    "                    h[j]='?'\n",
    "             \n",
    "            j = j + 1 \n",
    "print(\"Maximally specific hypothesis :'',h)         "
   ]
  },
  {
   "cell_type": "code",
   "execution_count": null,
   "metadata": {},
   "outputs": [],
   "source": []
  },
  {
   "cell_type": "code",
   "execution_count": null,
   "metadata": {},
   "outputs": [],
   "source": []
  }
 ],
 "metadata": {
  "kernelspec": {
   "display_name": "Python 3",
   "language": "python",
   "name": "python3"
  },
  "language_info": {
   "codemirror_mode": {
    "name": "ipython",
    "version": 3
   },
   "file_extension": ".py",
   "mimetype": "text/x-python",
   "name": "python",
   "nbconvert_exporter": "python",
   "pygments_lexer": "ipython3",
   "version": "3.7.6"
  }
 },
 "nbformat": 4,
 "nbformat_minor": 4
}

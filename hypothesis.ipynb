{
 "cells": [
  {
   "cell_type": "code",
   "execution_count": 5,
   "id": "8ee721ae",
   "metadata": {},
   "outputs": [
    {
     "name": "stdout",
     "output_type": "stream",
     "text": [
      "[['sky', 'Temperature', 'Humid', 'wind', 'water', 'Forest', 'Output'], ['sunny', 'warm', 'normal', 'strong', 'warm', 'same', 'yes'], ['sunny', 'warm', 'high', 'strong', 'warm', 'same', 'yes'], ['rainy', 'cold', 'high', 'strong', 'warm', 'change', 'no'], ['sunny', 'warm', 'high', 'strong', 'cool', 'change', 'yes']]\n"
     ]
    }
   ],
   "source": [
    "import csv\n",
    "with open('wheather.csv','r') as f:\n",
    "    reader = csv.reader(f)\n",
    "    data = list(reader)\n",
    "print(data)"
   ]
  },
  {
   "cell_type": "code",
   "execution_count": 6,
   "id": "2dbc1807",
   "metadata": {},
   "outputs": [
    {
     "name": "stdout",
     "output_type": "stream",
     "text": [
      "['sky', 'Temp', 'Humid', 'wind', 'water', 'Forecast']\n"
     ]
    }
   ],
   "source": [
    "attributes = ['sky','Temp','Humid','wind','water','Forecast']\n",
    "print(attributes)"
   ]
  },
  {
   "cell_type": "code",
   "execution_count": 7,
   "id": "15fd3142",
   "metadata": {},
   "outputs": [],
   "source": [
    "h = ['0','0','0','0','0','0']"
   ]
  },
  {
   "cell_type": "code",
   "execution_count": 8,
   "id": "e536d33e",
   "metadata": {},
   "outputs": [
    {
     "name": "stdout",
     "output_type": "stream",
     "text": [
      "maximally specific hypothesis : ['0', '0', '0', '0', '0', '0']\n"
     ]
    }
   ],
   "source": [
    "for row in data:\n",
    "    if row[-1] == 'Yes':\n",
    "        j=0\n",
    "        for col in row:\n",
    "            if col != 'Yes':\n",
    "                if col != h[j] and h[j] == '0':\n",
    "                    h[j] = col\n",
    "                elif col != h[j] and h[j] != '0':\n",
    "                    h[j] = '?'\n",
    "            j = j+1\n",
    "print('maximally specific hypothesis :',h)\n",
    "            "
   ]
  },
  {
   "cell_type": "code",
   "execution_count": null,
   "id": "84085001",
   "metadata": {},
   "outputs": [],
   "source": []
  }
 ],
 "metadata": {
  "kernelspec": {
   "display_name": "Python 3 (ipykernel)",
   "language": "python",
   "name": "python3"
  },
  "language_info": {
   "codemirror_mode": {
    "name": "ipython",
    "version": 3
   },
   "file_extension": ".py",
   "mimetype": "text/x-python",
   "name": "python",
   "nbconvert_exporter": "python",
   "pygments_lexer": "ipython3",
   "version": "3.9.12"
  }
 },
 "nbformat": 4,
 "nbformat_minor": 5
}
